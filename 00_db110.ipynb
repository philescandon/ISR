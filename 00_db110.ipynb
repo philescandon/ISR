{
 "cells": [
  {
   "cell_type": "code",
   "execution_count": null,
   "metadata": {},
   "outputs": [],
   "source": [
    "# default_exp db110"
   ]
  },
  {
   "cell_type": "markdown",
   "metadata": {},
   "source": [
    "# db110\n",
    "\n",
    "> Classes and functions for the db110"
   ]
  },
  {
   "cell_type": "code",
   "execution_count": null,
   "metadata": {},
   "outputs": [],
   "source": [
    "#hide\n",
    "from nbdev.showdoc import *\n"
   ]
  },
  {
   "cell_type": "code",
   "execution_count": null,
   "metadata": {},
   "outputs": [],
   "source": [
    "#export\n",
    "import pandas as pd\n",
    "import numpy as np\n",
    "import regex\n",
    "import string\n",
    "#import ipdb\n",
    "from pandas import DataFrame\n",
    "import matplotlib.pyplot as plt\n",
    "import time\n",
    "\n"
   ]
  },
  {
   "cell_type": "markdown",
   "metadata": {},
   "source": [
    "## Functions"
   ]
  },
  {
   "cell_type": "code",
   "execution_count": null,
   "metadata": {},
   "outputs": [],
   "source": [
    "#export\n",
    "def readDB110():\n",
    "    \"Simple function to test\"\n",
    "    return 'DB110 Test'"
   ]
  },
  {
   "cell_type": "code",
   "execution_count": null,
   "metadata": {},
   "outputs": [],
   "source": [
    "assert(readDB110()) == 'DB110 Test'"
   ]
  },
  {
   "cell_type": "code",
   "execution_count": null,
   "metadata": {},
   "outputs": [],
   "source": [
    "#export\n",
    "def getFieldNames(logfile):\n",
    "    \"Returns field names from a db110 datalog collected by GTS\"\n",
    "    nameList = []\n",
    "    fields = []\n",
    "    pattern = r'#\\s\\d*\\s(?P<field>\\w.*)' \n",
    "    fieldsRegex = regex.compile(pattern)\n",
    "    #fieldsRegex = regex.compile(pattern)\n",
    "    fh = open(logfile,'r')\n",
    "    lines = fh.readlines()\n",
    "    for line in lines:\n",
    "        m = fieldsRegex.search(line)\n",
    "        if m:\n",
    "            field = m.group('field')\n",
    "            field = field.replace(' ','_')\n",
    "            field = field.replace(':','.')\n",
    "            field = field.replace('.','_')\n",
    "            nameList.append(field)\n",
    "        else:\n",
    "            pass\n",
    "    fh.close()\n",
    "    #debug_here()\n",
    "    # try a list here in prep for pandas\n",
    "    \n",
    "    # this looks like a set up for my matlab routines\n",
    "    #fieldNames = list(enumerate(nameList))\n",
    "    \n",
    "    # how about this \n",
    "    fieldNames = nameList\n",
    "        \n",
    "    # need a dictionary?\n",
    "    #fieldNames = dict.fromkeys(nameList)\n",
    "    \n",
    "    return fieldNames"
   ]
  },
  {
   "cell_type": "code",
   "execution_count": null,
   "metadata": {},
   "outputs": [],
   "source": [
    "names = getFieldNames('PitchT3.log')"
   ]
  },
  {
   "cell_type": "code",
   "execution_count": null,
   "metadata": {},
   "outputs": [
    {
     "name": "stdout",
     "output_type": "stream",
     "text": [
      "['row_number', 'Absolute_sample_number', 'pitchGimbal_run_curMode', 'pitchGimbal_run_curPosition', 'pitchGimbal_run_setPosition', 'pitchGimbal_run_errPosition', 'pitchGimbal_run_curVelocity', 'pitchGimbal_run_velError', 'pitchGimbal_run_setVelocity', 'pitchGimbal_run_errVelocity', 'pitchGimbal_run_curCommand']\n"
     ]
    }
   ],
   "source": [
    "print(names)"
   ]
  },
  {
   "cell_type": "markdown",
   "metadata": {},
   "source": [
    "Graphing with fastbook module; Use to describe a test process or sequence"
   ]
  },
  {
   "cell_type": "code",
   "execution_count": null,
   "metadata": {},
   "outputs": [],
   "source": []
  },
  {
   "cell_type": "markdown",
   "metadata": {},
   "source": [
    "## Classes"
   ]
  },
  {
   "cell_type": "code",
   "execution_count": null,
   "metadata": {},
   "outputs": [],
   "source": []
  },
  {
   "cell_type": "markdown",
   "metadata": {},
   "source": [
    "## Test"
   ]
  },
  {
   "cell_type": "code",
   "execution_count": null,
   "metadata": {},
   "outputs": [],
   "source": []
  }
 ],
 "metadata": {
  "kernelspec": {
   "display_name": "Python 3",
   "language": "python",
   "name": "python3"
  }
 },
 "nbformat": 4,
 "nbformat_minor": 4
}
