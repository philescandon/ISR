{
  "nbformat": 4,
  "nbformat_minor": 0,
  "metadata": {
    "kernelspec": {
      "display_name": "Python 3",
      "language": "python",
      "name": "python3"
    },
    "colab": {
      "name": "index.ipynb",
      "provenance": []
    }
  },
  "cells": [
    {
      "cell_type": "code",
      "metadata": {
        "id": "qG5IsOlvY95c"
      },
      "source": [
        "%load_ext_autoreload\r\n",
        "%autoreload 2"
      ],
      "execution_count": null,
      "outputs": []
    },
    {
      "cell_type": "code",
      "metadata": {
        "id": "_jV4H69XY2au"
      },
      "source": [
        "#hide\n",
        "# from <libname>.<filename>\n",
        "from isr.db110 import *\n",
        "from isr.ms110 import *"
      ],
      "execution_count": null,
      "outputs": []
    },
    {
      "cell_type": "markdown",
      "metadata": {
        "id": "lxAXo6F-Y2a5"
      },
      "source": [
        "# ISR\n",
        "\n",
        "> ISR functions and classes for db110 and ms110 systems"
      ]
    },
    {
      "cell_type": "markdown",
      "metadata": {
        "id": "-eRBfGCtY2a6"
      },
      "source": [
        "This file will become your README and also the index of your documentation."
      ]
    },
    {
      "cell_type": "markdown",
      "metadata": {
        "id": "IvKXtblGY2a7"
      },
      "source": [
        "## Install"
      ]
    },
    {
      "cell_type": "markdown",
      "metadata": {
        "id": "l5SQsiKpY2a7"
      },
      "source": [
        "`pip install isr`"
      ]
    },
    {
      "cell_type": "markdown",
      "metadata": {
        "id": "VSje5GxDY2a8"
      },
      "source": [
        "## How to use"
      ]
    },
    {
      "cell_type": "markdown",
      "metadata": {
        "id": "2me6YT2rY2a8"
      },
      "source": [
        "Fill me in please! Don't forget code examples:"
      ]
    },
    {
      "cell_type": "code",
      "metadata": {
        "id": "0C0OGjgZY2a9",
        "outputId": "a5b41cde-7238-4334-c445-0defa8c9d3b7"
      },
      "source": [
        "1+1"
      ],
      "execution_count": null,
      "outputs": [
        {
          "output_type": "execute_result",
          "data": {
            "text/plain": [
              "2"
            ]
          },
          "metadata": {
            "tags": []
          },
          "execution_count": 0
        }
      ]
    },
    {
      "cell_type": "markdown",
      "metadata": {
        "id": "qsuqjhXMY2a-"
      },
      "source": [
        "## db110 function"
      ]
    },
    {
      "cell_type": "code",
      "metadata": {
        "id": "TOO_K_xMY2a_",
        "outputId": "3abeade0-3b76-45b4-b9f7-ca69b7d96e5b"
      },
      "source": [
        "readDB110()"
      ],
      "execution_count": null,
      "outputs": [
        {
          "output_type": "execute_result",
          "data": {
            "text/plain": [
              "'DB110 Test'"
            ]
          },
          "metadata": {
            "tags": []
          },
          "execution_count": 0
        }
      ]
    },
    {
      "cell_type": "markdown",
      "metadata": {
        "id": "Ijp2YLF1Y2a_"
      },
      "source": [
        "## ms110 function"
      ]
    },
    {
      "cell_type": "code",
      "metadata": {
        "id": "NFGo7gIJY2bA",
        "outputId": "798cfd99-4552-432a-a37d-3b94c06c6746"
      },
      "source": [
        "readMS110()"
      ],
      "execution_count": null,
      "outputs": [
        {
          "output_type": "execute_result",
          "data": {
            "text/plain": [
              "'MS110 Test0'"
            ]
          },
          "metadata": {
            "tags": []
          },
          "execution_count": 0
        }
      ]
    },
    {
      "cell_type": "code",
      "metadata": {
        "id": "sdYTQiEdY2bA"
      },
      "source": [
        ""
      ],
      "execution_count": null,
      "outputs": []
    }
  ]
}